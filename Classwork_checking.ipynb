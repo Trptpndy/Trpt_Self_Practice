{
 "cells": [
  {
   "cell_type": "code",
   "execution_count": 2,
   "metadata": {},
   "outputs": [],
   "source": [
    "##  Write the matrix multiplication\n",
    "import numpy as np\n",
    "\n",
    "def matrix_multiplication(Mtrx1,Mtrx2):\n",
    "       \n",
    "    Mtrx1_row=len(Mtrx1)\n",
    "    Mtrx1_col=len(Mtrx1[0])\n",
    "    \n",
    "    \n",
    "    Mtrx2_row=len(Mtrx2)\n",
    "    Mtrx2_col=len(Mtrx2[0])\n",
    "    \n",
    "    print(f'first Mtrix No of Rows = {Mtrx1_row},first Matrix No of column = {Mtrx1_col},Second Mtrix Rows = {Mtrx2_row},Second Mtrix Cols = {Mtrx2_col}')\n",
    "    \n",
    "    Mtrx3=np.zeros((Mtrx1_row,Mtrx1_col),dtype=np.int16)\n",
    "    #print(Mtrx3)\n",
    "    \n",
    "    if Mtrx1_col==Mtrx2_row:\n",
    "        for i in range(Mtrx1_row):\n",
    "            for j in range (Mtrx1_col):\n",
    "                #Mtrx3[i][j]=0\n",
    "                for k in range (Mtrx1_col):\n",
    "                    Mtrx3[i][j]=Mtrx3[i][j]+Mtrx1[i][k]*Mtrx2[k][j]\n",
    "                #print(Mtrx3[i][j]) for QC purpose   \n",
    "\n",
    "        print(Mtrx3)\n",
    "    else:\n",
    "        print('Error: Number of col in first matrix should be equal to number of rows of second matrix')\n",
    "              \n",
    "    "
   ]
  },
  {
   "cell_type": "code",
   "execution_count": 6,
   "metadata": {},
   "outputs": [],
   "source": [
    "def add_digit_decimals(num_str1, num_str2): #\"2.3\", \"4.56\" -> \"6.86\"\n",
    "    result1=[]\n",
    "    part2=[]\n",
    "    result2=[]\n",
    "    i=0\n",
    "    while num_str1[i]!='.':\n",
    "        i+=1\n",
    "        \n",
    "    part1=num_str1[:i]\n",
    "    part2=num_str1[i+1:]\n",
    "    #print(part1,part2)\n",
    "    \n",
    "    i=0\n",
    "    while num_str2[i]!='.':\n",
    "        i+=1\n",
    "        \n",
    "    part3=num_str2[:i]\n",
    "    part4=num_str2[i+1:]\n",
    "    #print(part1,part2,part3,part4)\n",
    "    lst1=list(part2)\n",
    "    lst2=list(part4)\n",
    "    \n",
    "   \n",
    "    \n",
    "    if len(lst2)>len(lst1):\n",
    "        for i in range(len(lst1),len(lst2)):\n",
    "            lst1.append('0')\n",
    "    i = len(lst1) - 1\n",
    "    j = len(lst2) - 1\n",
    "    result = []\n",
    "    carryover = 0\n",
    "    r=0\n",
    "    while i > -1 or j > -1:\n",
    "        if i >= 0:\n",
    "            n1 = int(lst1[i])\n",
    "        else:\n",
    "            n1 = 0\n",
    "        \n",
    "        if j >= 0:\n",
    "            n2 = int(lst2[j])\n",
    "        else:\n",
    "            n2 = 0\n",
    "        r = n1 + n2 + carryover\n",
    "#         print(f\"{n1} + {n2} -> {r}\")\n",
    "        result.append(r%10)\n",
    "        carryover = r // 10\n",
    "        i -= 1\n",
    "        j -= 1\n",
    "    \n",
    "    number= int(part1)+int(part3)\n",
    "    if carryover > 0:\n",
    "        number+=carryover\n",
    "    result.reverse()\n",
    "    dec=''\n",
    "    for i in result:\n",
    "        dec+=str(i)\n",
    "    print(number,'.',dec)   \n",
    "          "
   ]
  },
  {
   "cell_type": "code",
   "execution_count": 4,
   "metadata": {},
   "outputs": [],
   "source": [
    "# Write your own add digit arrays\n",
    "#[1,1,2] + [1,2,1] -> [2, 3,3]\n",
    "#[1,2] + [1,0] -> [2,2]\n",
    "\n",
    "def add_digit(num_str1, num_str2):\n",
    "    result=[]\n",
    "    if len(num_str1)==len(num_str2):\n",
    "        \n",
    "        for i in range(len(num_str1)):\n",
    "            result.append(num_str1[i]+num_str2[i])\n",
    "        return (result)\n",
    "    else:\n",
    "        print(\"Error: length should be same for both array\")"
   ]
  },
  {
   "cell_type": "code",
   "execution_count": 7,
   "metadata": {},
   "outputs": [
    {
     "name": "stdout",
     "output_type": "stream",
     "text": [
      "6 . 86\n",
      "51 . 88\n",
      "52 . 08\n"
     ]
    }
   ],
   "source": [
    "add_digit_decimals(\"2.3\", \"4.56\")\n",
    "add_digit_decimals(\"47.32\", \"4.56\")\n",
    "add_digit_decimals(\"47.32\", \"4.76\")"
   ]
  },
  {
   "cell_type": "code",
   "execution_count": 8,
   "metadata": {},
   "outputs": [
    {
     "name": "stdout",
     "output_type": "stream",
     "text": [
      "first Mtrix No of Rows = 3,first Matrix No of column = 3,Second Mtrix Rows = 3,Second Mtrix Cols = 3\n",
      "[[ 5  6  9]\n",
      " [14 12 25]\n",
      " [16 17 30]]\n"
     ]
    }
   ],
   "source": [
    "Mtrx1=[[1,2,1],[3,1,7],[2,3,9]]\n",
    "Mtrx2=[[2,1,3],[1,2,2],[1,1,2]]\n",
    "\n",
    "matrix_multiplication(Mtrx1,Mtrx2)"
   ]
  },
  {
   "cell_type": "code",
   "execution_count": 10,
   "metadata": {},
   "outputs": [],
   "source": [
    "# Problem1:\n",
    "# 2y = 40 -> [2, 40]\n",
    "# y = 40/2 -> [20]\n",
    "\n",
    "def solve1(arr):\n",
    "    \n",
    "    tmp=arr[1]/arr[0]\n",
    "    return (tmp)\n",
    "\n",
    "# Input: [3, 15]\n",
    "# Expected: [5]"
   ]
  },
  {
   "cell_type": "code",
   "execution_count": 15,
   "metadata": {},
   "outputs": [],
   "source": [
    "y=solve1([6,12])\n",
    "\n"
   ]
  },
  {
   "cell_type": "code",
   "execution_count": 12,
   "metadata": {},
   "outputs": [],
   "source": [
    "# Problem 2\n",
    "\n",
    "#2x + 5y = 78, y=2\n",
    "#x = (78 - 5*2)/2\n",
    "\n",
    "def solve_substitute(eqn, prev_ans):\n",
    "    lst=[]\n",
    "    L=len(prev_ans)\n",
    "    eqlen=len(eqn)\n",
    "    x=0\n",
    "    \n",
    "    for i in range(L):\n",
    "        x=x+prev_ans[i]*eqn[i+1]\n",
    "        #print('Multy value',x)\n",
    "    \n",
    "    x=(eqn[eqlen-1]-x)/eqn[0]\n",
    "    \n",
    "    lst.append(x)\n",
    "    lst.append(prev_ans)\n",
    "    return lst\n",
    "\n",
    "#Example 1:\n",
    "#solve_substitute([2, 5, 78], [2])\n",
    "#expected_answer: [34, 2]\n",
    "\n",
    "#Example 2:\n",
    "# 3x + 5y - 10z = 30\n",
    "# y, z = [1, 2]\n",
    "# 3*x + 5*1 - 10*2 = 30\n",
    "# x = (30 - (5*1 - 10*2))/3\n",
    "\n",
    "#solve_substitute([3, 5, -10, 30], [1, 2]), \n",
    "#Expected_answer: [15, 1, 2]"
   ]
  },
  {
   "cell_type": "code",
   "execution_count": 14,
   "metadata": {},
   "outputs": [
    {
     "data": {
      "text/plain": [
       "[15.0, [1, 2]]"
      ]
     },
     "execution_count": 14,
     "metadata": {},
     "output_type": "execute_result"
    }
   ],
   "source": [
    "solve_substitute([3, 5, -10, 30], [1, 2])"
   ]
  },
  {
   "cell_type": "code",
   "execution_count": 17,
   "metadata": {},
   "outputs": [],
   "source": [
    "# Problem 3\n",
    "##A. 2x + 3y = 10\n",
    "##B. 4x - 5y = 50\n",
    "\n",
    "\n",
    "##Multiplier = 4/2\n",
    "##C. B - 2*A\n",
    "##C. -11y = 30\n",
    "def find_multiplier(Marr,Mlen):\n",
    "    \n",
    "    mul=[]\n",
    "    for i in range(1,Mlen):\n",
    "        if Marr[0][0]>Marr[i][0]:\n",
    "            mul.append(Marr[0][0]/Marr[i][0])\n",
    "        else:\n",
    "            mul.append(Marr[i][0]/Marr[0][0])\n",
    "    \n",
    "    return mul   \n",
    "\n",
    "def reduce(arr):\n",
    "    L= len(arr)\n",
    "    k=0\n",
    "    result = []\n",
    "    \n",
    "    #for i in range(0,L-2):\n",
    "   \n",
    "    #print(result)\n",
    "    new_eqns =[]\n",
    "    for i in range(1,L):\n",
    "        res=[]\n",
    "        result=find_multiplier(arr,L)\n",
    "        \n",
    "        for j in range(1,L+1):\n",
    "            x=arr[i][j]-arr[0][j]*result[k]\n",
    "            \n",
    "            res.append(x)\n",
    "        new_eqns.append(res)\n",
    "            \n",
    "        k+=1 \n",
    "       \n",
    "    return new_eqns\n",
    "\n",
    "#input = [[2, 3, 10],\n",
    "#    [4, -5, 50]]\n",
    "#'''result = reduce(input)\n",
    "#result = [-11, 30]\n",
    "\n",
    "#result = reduce([\n",
    "#    [1, 2, 3, 4], #x + 2y + 3z = 4\n",
    "#   [2, 2, 4, 10],\n",
    "#    [3, 4, 2, 30],\n",
    "#])\n",
    "#result: [\n",
    "#    [ -2, -2, 2], #eqn2 - 2*eqn1\n",
    "#    [-2, -7, 18],  #eqn3 - 2*eqn1\n",
    "#]'''\n"
   ]
  },
  {
   "cell_type": "code",
   "execution_count": 18,
   "metadata": {},
   "outputs": [
    {
     "data": {
      "text/plain": [
       "[[-2.0, -2.0, 2.0], [-2.0, -7.0, 18.0]]"
      ]
     },
     "execution_count": 18,
     "metadata": {},
     "output_type": "execute_result"
    }
   ],
   "source": [
    "reduce([[1, 2, 3, 4],[2, 2, 4, 10],[3, 4, 2, 30]])"
   ]
  },
  {
   "cell_type": "code",
   "execution_count": 19,
   "metadata": {},
   "outputs": [],
   "source": [
    "# Code convert to number a decimal numbers\n",
    "# Problem 4: \n",
    "num = \"१३७.७\"\n",
    "def convert(num):\n",
    "    dic_numbers={'०':0,'१':1,'२':2,'३':3,'४':4,'५':5,'६':6,'७':7,'८':8,'९':9,'.':'.'}\n",
    "    # print(137.7)\n",
    "    for i in range(len(num)):\n",
    "        for j,k in dic_numbers.items():\n",
    "                   if num[i]==j:\n",
    "                       print(k,end=\"\")\n",
    "                   "
   ]
  },
  {
   "cell_type": "code",
   "execution_count": 20,
   "metadata": {},
   "outputs": [
    {
     "name": "stdout",
     "output_type": "stream",
     "text": [
      "137.7"
     ]
    }
   ],
   "source": [
    "convert(\"१३७.७\")"
   ]
  },
  {
   "cell_type": "code",
   "execution_count": 21,
   "metadata": {},
   "outputs": [
    {
     "name": "stdout",
     "output_type": "stream",
     "text": [
      "800 70\n"
     ]
    }
   ],
   "source": [
    "#Use XOR to swap without using third variable\n",
    "x=70\n",
    "y=800\n",
    "x=x^y\n",
    "y=x & (x^y)\n",
    "x=x^y\n",
    "print(x,y)"
   ]
  },
  {
   "cell_type": "code",
   "execution_count": null,
   "metadata": {},
   "outputs": [],
   "source": []
  }
 ],
 "metadata": {
  "kernelspec": {
   "display_name": "Python 3",
   "language": "python",
   "name": "python3"
  },
  "language_info": {
   "codemirror_mode": {
    "name": "ipython",
    "version": 3
   },
   "file_extension": ".py",
   "mimetype": "text/x-python",
   "name": "python",
   "nbconvert_exporter": "python",
   "pygments_lexer": "ipython3",
   "version": "3.6.8"
  },
  "toc": {
   "base_numbering": 1,
   "nav_menu": {},
   "number_sections": true,
   "sideBar": true,
   "skip_h1_title": false,
   "title_cell": "Table of Contents",
   "title_sidebar": "Contents",
   "toc_cell": false,
   "toc_position": {},
   "toc_section_display": true,
   "toc_window_display": false
  }
 },
 "nbformat": 4,
 "nbformat_minor": 2
}
